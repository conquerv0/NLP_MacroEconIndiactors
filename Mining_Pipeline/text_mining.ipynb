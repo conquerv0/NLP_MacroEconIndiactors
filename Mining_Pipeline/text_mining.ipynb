{
 "cells": [
  {
   "cell_type": "code",
   "execution_count": 335,
   "id": "9d5c3244",
   "metadata": {
    "scrolled": true
   },
   "outputs": [
    {
     "name": "stderr",
     "output_type": "stream",
     "text": [
      "/var/folders/s0/9q55_0611wj7yf1wsg7_htlr0000gn/T/ipykernel_47316/1898551232.py:8: FutureWarning: Passing a negative integer is deprecated in version 1.0 and will not be supported in future version. Instead, use None to not limit the column width.\n",
      "  pd.set_option('display.max_colwidth', -1)\n"
     ]
    }
   ],
   "source": [
    "# Import packages\n",
    "import pandas as pd\n",
    "import numpy as np\n",
    "import xml.etree.cElementTree as et\n",
    "import spacy\n",
    "import re\n",
    "from nltk import tokenize\n",
    "pd.set_option('display.max_colwidth', -1)\n",
    "pd.set_option('display.max_rows', None)"
   ]
  },
  {
   "cell_type": "markdown",
   "id": "c088aadd",
   "metadata": {},
   "source": [
    "# Extract title, publish date, etc."
   ]
  },
  {
   "cell_type": "code",
   "execution_count": 427,
   "id": "936b29e5",
   "metadata": {},
   "outputs": [],
   "source": [
    "tree=et.parse('RE_Sample_XMLs(1)/1545387815.xml')\n",
    "root=tree.getroot()"
   ]
  },
  {
   "cell_type": "code",
   "execution_count": 440,
   "id": "1811ad58",
   "metadata": {},
   "outputs": [
    {
     "name": "stdout",
     "output_type": "stream",
     "text": [
      "1545387815\n"
     ]
    }
   ],
   "source": [
    "for item in root.iter('GOID'):\n",
    "    print(item.text)"
   ]
  },
  {
   "cell_type": "code",
   "execution_count": 439,
   "id": "341db665",
   "metadata": {
    "scrolled": false
   },
   "outputs": [
    {
     "name": "stdout",
     "output_type": "stream",
     "text": [
      "U.S. News -- Yellen to House GOP: Rate Rule a Bad Idea\n"
     ]
    }
   ],
   "source": [
    "for item in root.iter('TitleAtt'):\n",
    "    print(item[0].text)"
   ]
  },
  {
   "cell_type": "code",
   "execution_count": 445,
   "id": "ce43a7ae",
   "metadata": {},
   "outputs": [
    {
     "name": "stdout",
     "output_type": "stream",
     "text": [
      "Pedro Nicolaci da Costa\n",
      "Leubsdorf, Ben\n"
     ]
    }
   ],
   "source": [
    "for item in root.iter('Contributors'):\n",
    "    for contributor in item:\n",
    "        print(contributor[0][0].text)"
   ]
  },
  {
   "cell_type": "code",
   "execution_count": 446,
   "id": "8e7afccc",
   "metadata": {},
   "outputs": [
    {
     "name": "stdout",
     "output_type": "stream",
     "text": [
      "Leubsdorf\n"
     ]
    }
   ],
   "source": [
    "for item in root.iter('LastName'):\n",
    "    print(item.text)"
   ]
  },
  {
   "cell_type": "code",
   "execution_count": 447,
   "id": "4bc88707",
   "metadata": {
    "scrolled": true
   },
   "outputs": [
    {
     "name": "stdout",
     "output_type": "stream",
     "text": [
      "Ben\n"
     ]
    }
   ],
   "source": [
    "for item in root.iter('FirstName'):\n",
    "    print(item.text)"
   ]
  },
  {
   "cell_type": "code",
   "execution_count": 449,
   "id": "b62553a9",
   "metadata": {},
   "outputs": [
    {
     "name": "stdout",
     "output_type": "stream",
     "text": [
      "2014-07-17\n"
     ]
    }
   ],
   "source": [
    "for item in root.iter('NumericDate'):\n",
    "    print(item.text)"
   ]
  },
  {
   "cell_type": "code",
   "execution_count": 448,
   "id": "5fb77d01",
   "metadata": {},
   "outputs": [
    {
     "name": "stdout",
     "output_type": "stream",
     "text": [
      "Newspapers\n"
     ]
    }
   ],
   "source": [
    "for item in root.iter('SourceType'):\n",
    "    print(item.text)"
   ]
  },
  {
   "cell_type": "code",
   "execution_count": 457,
   "id": "54d09320",
   "metadata": {},
   "outputs": [
    {
     "name": "stdout",
     "output_type": "stream",
     "text": [
      "English\n",
      "\n"
     ]
    },
    {
     "ename": "IndexError",
     "evalue": "child index out of range",
     "output_type": "error",
     "traceback": [
      "\u001b[0;31m---------------------------------------------------------------------------\u001b[0m",
      "\u001b[0;31mIndexError\u001b[0m                                Traceback (most recent call last)",
      "\u001b[0;32m/var/folders/s0/9q55_0611wj7yf1wsg7_htlr0000gn/T/ipykernel_47316/48270157.py\u001b[0m in \u001b[0;36m<module>\u001b[0;34m\u001b[0m\n\u001b[1;32m      1\u001b[0m \u001b[0;32mfor\u001b[0m \u001b[0mitem\u001b[0m \u001b[0;32min\u001b[0m \u001b[0mroot\u001b[0m\u001b[0;34m.\u001b[0m\u001b[0miter\u001b[0m\u001b[0;34m(\u001b[0m\u001b[0;34m'Language'\u001b[0m\u001b[0;34m)\u001b[0m\u001b[0;34m:\u001b[0m\u001b[0;34m\u001b[0m\u001b[0;34m\u001b[0m\u001b[0m\n\u001b[0;32m----> 2\u001b[0;31m     \u001b[0mprint\u001b[0m\u001b[0;34m(\u001b[0m\u001b[0mitem\u001b[0m\u001b[0;34m[\u001b[0m\u001b[0;36m0\u001b[0m\u001b[0;34m]\u001b[0m\u001b[0;34m.\u001b[0m\u001b[0mtext\u001b[0m\u001b[0;34m.\u001b[0m\u001b[0mstrip\u001b[0m\u001b[0;34m(\u001b[0m\u001b[0;34m)\u001b[0m\u001b[0;34m)\u001b[0m\u001b[0;34m\u001b[0m\u001b[0;34m\u001b[0m\u001b[0m\n\u001b[0m",
      "\u001b[0;31mIndexError\u001b[0m: child index out of range"
     ]
    }
   ],
   "source": [
    "for item in root.iter('Language'):\n",
    "    print(item[0].text.strip())"
   ]
  },
  {
   "cell_type": "code",
   "execution_count": 419,
   "id": "329c5557",
   "metadata": {
    "scrolled": true
   },
   "outputs": [
    {
     "name": "stdout",
     "output_type": "stream",
     "text": [
      "17\n"
     ]
    }
   ],
   "source": [
    "for title in root.iter('StartPage'):\n",
    "    print(title.text)"
   ]
  },
  {
   "cell_type": "code",
   "execution_count": 429,
   "id": "9c2a5a9e",
   "metadata": {},
   "outputs": [
    {
     "name": "stdout",
     "output_type": "stream",
     "text": [
      "CompanyTerm {'TermSource': 'NA', 'PndxHeader': 'true'}          \n",
      "            \n",
      "CompanyNameAtt {'TermVocab': 'CORP'}\n",
      "CompanyNAICAtt {}\n"
     ]
    }
   ],
   "source": [
    "for title in root.iter('CompanyTerm'):\n",
    "    print(title.tag, title.attrib, title.text)\n",
    "    for item in title:\n",
    "        print(item.tag, item.attrib)"
   ]
  },
  {
   "cell_type": "markdown",
   "id": "cbc771f3",
   "metadata": {},
   "source": [
    "# Parsing XMLs and sentiment analysis"
   ]
  },
  {
   "cell_type": "code",
   "execution_count": 329,
   "id": "edb9a70f",
   "metadata": {},
   "outputs": [],
   "source": [
    "# Parse the xml by paragraph and sentence\n",
    "def extract_paragraphs_new(path):\n",
    "    tree=et.parse(path)\n",
    "    root=tree.getroot()\n",
    "    del_list = []\n",
    "    for text in root.iter('Text'):\n",
    "        full = text.text\n",
    "    for i in range(len(full)):\n",
    "        if full[i:i+3] == '<p>':\n",
    "            del_list.append(i)\n",
    "    temp = {'Paragraph': [], 'Sentence': [], 'Overall Sentence': [], 'Text': []}\n",
    "    sentence_count = 1\n",
    "    #temp = {'Paragraph': [], 'Text': []}\n",
    "    for i in range(len(del_list)-1):\n",
    "        text = full[(del_list[i]+3):(del_list[i+1])]\n",
    "        text = text.replace(\"\\n\",\"\")\n",
    "        text = text.replace(\"<p>\",\"\")\n",
    "        text = text.replace(\"</p>\",\"\")\n",
    "        text = text.replace(\"<i>\",\"\")\n",
    "        text = text.replace(\"</i>\",\"\")\n",
    "        text = text.replace(\"<b>\",\"\")\n",
    "        text = text.replace(\"</b>\",\"\")\n",
    "        all_sen = tokenize.sent_tokenize(text)\n",
    "        for j in range(len(all_sen)):\n",
    "            temp['Paragraph'].append(i+1)\n",
    "            temp['Sentence'].append(j+1)\n",
    "            temp['Overall Sentence'].append(sentence_count)\n",
    "            temp['Text'].append(all_sen[j])\n",
    "            sentence_count += 1\n",
    "    df = pd.DataFrame(data=temp)\n",
    "    return df"
   ]
  },
  {
   "cell_type": "code",
   "execution_count": 342,
   "id": "5ee66322",
   "metadata": {},
   "outputs": [
    {
     "data": {
      "text/plain": [
       "<spacytextblob.spacytextblob.SpacyTextBlob at 0x7f819e3dc370>"
      ]
     },
     "execution_count": 342,
     "metadata": {},
     "output_type": "execute_result"
    }
   ],
   "source": [
    "# for sentiment analysis\n",
    "from spacytextblob.spacytextblob import SpacyTextBlob\n",
    "nlp.add_pipe('spacytextblob')"
   ]
  },
  {
   "cell_type": "code",
   "execution_count": 338,
   "id": "f1b7b605",
   "metadata": {},
   "outputs": [],
   "source": [
    "def get_tags(sentence):\n",
    "    \"\"\"Return POS tags of each sentence.\"\"\"\n",
    "    res = []\n",
    "    for token in nlp(sentence):\n",
    "        res.append((token.text, token.pos_, token.dep_))\n",
    "    return res"
   ]
  },
  {
   "cell_type": "code",
   "execution_count": 353,
   "id": "92100c79",
   "metadata": {},
   "outputs": [],
   "source": [
    "def get_polarity(sentence):\n",
    "    \"\"\"Return polarity score of each sentence.\"\"\"\n",
    "    token = nlp(sentence)\n",
    "    polarity = token._.blob.polarity\n",
    "    return polarity"
   ]
  },
  {
   "cell_type": "code",
   "execution_count": 352,
   "id": "a679f1b8",
   "metadata": {},
   "outputs": [],
   "source": [
    "def get_subjectivity(sentence):\n",
    "    \"\"\"Return subjectivity score of each sentence.\"\"\"\n",
    "    token = nlp(sentence)\n",
    "    subjectivity = token._.blob.subjectivity\n",
    "    return subjectivity"
   ]
  },
  {
   "cell_type": "code",
   "execution_count": 300,
   "id": "44d50e60",
   "metadata": {},
   "outputs": [],
   "source": [
    "def extract_tokens_plus_meta(doc:spacy.tokens.doc.Doc):\n",
    "    \"\"\"Extract tokens and metadata from individual spaCy doc.\"\"\"\n",
    "    return [\n",
    "        (i.text, i.i, i.lemma_, i.ent_type_, i.tag_, \n",
    "         i.dep_, i.pos_, i.is_stop, i.is_alpha, \n",
    "         i.is_digit, i.is_punct) for i in doc\n",
    "    ]\n",
    "\n",
    "def tidy_tokens(docs):\n",
    "    \"\"\"Extract tokens and metadata from list of spaCy docs.\"\"\"\n",
    "    \n",
    "    cols = [\n",
    "        \"doc_id\", \"token\", \"token_order\", \"lemma\", \n",
    "        \"ent_type\", \"tag\", \"dep\", \"pos\", \"is_stop\", \n",
    "        \"is_alpha\", \"is_digit\", \"is_punct\"\n",
    "    ]\n",
    "    \n",
    "    meta_df = []\n",
    "    for ix, doc in enumerate(docs):\n",
    "        meta = extract_tokens_plus_meta(doc)\n",
    "        meta = pd.DataFrame(meta)\n",
    "        meta.columns = cols[1:]\n",
    "        meta = meta.assign(doc_id = ix).loc[:, cols]\n",
    "        meta_df.append(meta)\n",
    "        \n",
    "    return pd.concat(meta_df) "
   ]
  },
  {
   "cell_type": "code",
   "execution_count": 458,
   "id": "55de1a2b",
   "metadata": {},
   "outputs": [],
   "source": [
    "extracts_2123327034 = extract_paragraphs_new('RE_Sample_XMLs/2123327034.xml')\n",
    "#extracts_2123327034['Tag'] = extracts_2123327034['Text'].apply(get_tags)\n",
    "extracts_2123327034['Polarity'] = extracts_2123327034['Text'].apply(get_polarity)\n",
    "extracts_2123327034['Subjectivity'] = extracts_2123327034['Text'].apply(get_subjectivity)\n",
    "#extracts_2123327034.to_csv('extracts_2123327034.csv', index=False)"
   ]
  },
  {
   "cell_type": "code",
   "execution_count": 314,
   "id": "b7ebf1ca",
   "metadata": {},
   "outputs": [],
   "source": [
    "docs_2123327034 = list(nlp.pipe(extracts_2123327034['Text']))\n",
    "nlp_info_2123327034 = tidy_tokens(docs_2123327034)\n",
    "#nlp_info_2123327034.to_csv('nlp_info_2123327034.csv', index=False)"
   ]
  },
  {
   "cell_type": "code",
   "execution_count": 371,
   "id": "a7b71b4d",
   "metadata": {},
   "outputs": [],
   "source": [
    "# Newspaper\n",
    "extracts_1545387815 = extract_paragraphs_new('RE_Sample_XMLs(1)/1545387815.xml')\n",
    "#extracts_1545387815['Tag'] = extracts_1545387815['Text'].apply(get_tags)\n",
    "extracts_1545387815['Polarity'] = extracts_1545387815['Text'].apply(get_polarity)\n",
    "extracts_1545387815['Subjectivity'] = extracts_1545387815['Text'].apply(get_subjectivity)\n",
    "#extracts_1545387815.to_csv('extracts_1545387815.csv', index=False)"
   ]
  },
  {
   "cell_type": "code",
   "execution_count": 374,
   "id": "64a3e348",
   "metadata": {
    "scrolled": true
   },
   "outputs": [],
   "source": [
    "yellen_1545387815 = extracts_1545387815[extracts_1545387815['Text'].str.contains('Yellen')]"
   ]
  },
  {
   "cell_type": "code",
   "execution_count": 357,
   "id": "61360ec6",
   "metadata": {},
   "outputs": [
    {
     "data": {
      "text/html": [
       "<div>\n",
       "<style scoped>\n",
       "    .dataframe tbody tr th:only-of-type {\n",
       "        vertical-align: middle;\n",
       "    }\n",
       "\n",
       "    .dataframe tbody tr th {\n",
       "        vertical-align: top;\n",
       "    }\n",
       "\n",
       "    .dataframe thead th {\n",
       "        text-align: right;\n",
       "    }\n",
       "</style>\n",
       "<table border=\"1\" class=\"dataframe\">\n",
       "  <thead>\n",
       "    <tr style=\"text-align: right;\">\n",
       "      <th></th>\n",
       "      <th>Paragraph</th>\n",
       "      <th>Sentence</th>\n",
       "      <th>Overall Sentence</th>\n",
       "      <th>Text</th>\n",
       "      <th>Tag</th>\n",
       "      <th>Polarity</th>\n",
       "      <th>Subjectivity</th>\n",
       "    </tr>\n",
       "  </thead>\n",
       "  <tbody>\n",
       "  </tbody>\n",
       "</table>\n",
       "</div>"
      ],
      "text/plain": [
       "Empty DataFrame\n",
       "Columns: [Paragraph, Sentence, Overall Sentence, Text, Tag, Polarity, Subjectivity]\n",
       "Index: []"
      ]
     },
     "execution_count": 357,
     "metadata": {},
     "output_type": "execute_result"
    }
   ],
   "source": [
    "extracts_1545387815[extracts_1545387815['Text'].str.contains('Wall Street')]"
   ]
  },
  {
   "cell_type": "code",
   "execution_count": 315,
   "id": "f7286f6a",
   "metadata": {},
   "outputs": [],
   "source": [
    "docs_1545387815 = list(nlp.pipe(extracts_1545387815['Text']))\n",
    "nlp_info_1545387815 = tidy_tokens(docs_1545387815)\n",
    "nlp_info_1545387815.to_csv('nlp_info_1545387815.csv', index=False)"
   ]
  },
  {
   "cell_type": "code",
   "execution_count": 375,
   "id": "170ae80f",
   "metadata": {},
   "outputs": [],
   "source": [
    "# Newspaper\n",
    "extracts_1545553533 = extract_paragraphs_new('RE_Sample_XMLs(1)/1545553533.xml')\n",
    "#extracts_1545553533['Tag'] = extracts_1545553533['Text'].apply(get_tags)\n",
    "extracts_1545553533['Polarity'] = extracts_1545553533['Text'].apply(get_polarity)\n",
    "extracts_1545553533['Subjectivity'] = extracts_1545553533['Text'].apply(get_subjectivity)"
   ]
  },
  {
   "cell_type": "code",
   "execution_count": 376,
   "id": "c496bcb8",
   "metadata": {
    "scrolled": true
   },
   "outputs": [],
   "source": [
    "yellen_1545553533 = extracts_1545553533[extracts_1545553533['Text'].str.contains('Yellen')]"
   ]
  },
  {
   "cell_type": "code",
   "execution_count": 360,
   "id": "c06085c3",
   "metadata": {},
   "outputs": [
    {
     "data": {
      "text/html": [
       "<div>\n",
       "<style scoped>\n",
       "    .dataframe tbody tr th:only-of-type {\n",
       "        vertical-align: middle;\n",
       "    }\n",
       "\n",
       "    .dataframe tbody tr th {\n",
       "        vertical-align: top;\n",
       "    }\n",
       "\n",
       "    .dataframe thead th {\n",
       "        text-align: right;\n",
       "    }\n",
       "</style>\n",
       "<table border=\"1\" class=\"dataframe\">\n",
       "  <thead>\n",
       "    <tr style=\"text-align: right;\">\n",
       "      <th></th>\n",
       "      <th>Paragraph</th>\n",
       "      <th>Sentence</th>\n",
       "      <th>Overall Sentence</th>\n",
       "      <th>Text</th>\n",
       "      <th>Tag</th>\n",
       "      <th>Polarity</th>\n",
       "      <th>Subjectivity</th>\n",
       "    </tr>\n",
       "  </thead>\n",
       "  <tbody>\n",
       "  </tbody>\n",
       "</table>\n",
       "</div>"
      ],
      "text/plain": [
       "Empty DataFrame\n",
       "Columns: [Paragraph, Sentence, Overall Sentence, Text, Tag, Polarity, Subjectivity]\n",
       "Index: []"
      ]
     },
     "execution_count": 360,
     "metadata": {},
     "output_type": "execute_result"
    }
   ],
   "source": [
    "extracts_1545553533[extracts_1545553533['Text'].str.contains('Wall Street')]"
   ]
  },
  {
   "cell_type": "code",
   "execution_count": 316,
   "id": "49b96a06",
   "metadata": {},
   "outputs": [],
   "source": [
    "docs_1545553533 = list(nlp.pipe(extracts_1545553533['Text']))\n",
    "nlp_info_1545553533 = tidy_tokens(docs_1545553533)\n",
    "nlp_info_1545553533.to_csv('nlp_info_1545553533.csv', index=False)"
   ]
  },
  {
   "cell_type": "code",
   "execution_count": 377,
   "id": "d4f62cf2",
   "metadata": {},
   "outputs": [],
   "source": [
    "# Newspaper\n",
    "extracts_1545554849 = extract_paragraphs_new('RE_Sample_XMLs(1)/1545554849.xml')\n",
    "#extracts_1545554849['Tag'] = extracts_1545554849['Text'].apply(get_tags)\n",
    "extracts_1545554849['Polarity'] = extracts_1545554849['Text'].apply(get_polarity)\n",
    "extracts_1545554849['Subjectivity'] = extracts_1545554849['Text'].apply(get_subjectivity)"
   ]
  },
  {
   "cell_type": "code",
   "execution_count": 378,
   "id": "fa0bcb05",
   "metadata": {
    "scrolled": true
   },
   "outputs": [],
   "source": [
    "yellen_1545554849 = extracts_1545554849[extracts_1545554849['Text'].str.contains('Yellen')]"
   ]
  },
  {
   "cell_type": "code",
   "execution_count": 363,
   "id": "4e570e92",
   "metadata": {},
   "outputs": [
    {
     "data": {
      "text/html": [
       "<div>\n",
       "<style scoped>\n",
       "    .dataframe tbody tr th:only-of-type {\n",
       "        vertical-align: middle;\n",
       "    }\n",
       "\n",
       "    .dataframe tbody tr th {\n",
       "        vertical-align: top;\n",
       "    }\n",
       "\n",
       "    .dataframe thead th {\n",
       "        text-align: right;\n",
       "    }\n",
       "</style>\n",
       "<table border=\"1\" class=\"dataframe\">\n",
       "  <thead>\n",
       "    <tr style=\"text-align: right;\">\n",
       "      <th></th>\n",
       "      <th>Paragraph</th>\n",
       "      <th>Sentence</th>\n",
       "      <th>Overall Sentence</th>\n",
       "      <th>Text</th>\n",
       "      <th>Tag</th>\n",
       "      <th>Polarity</th>\n",
       "      <th>Subjectivity</th>\n",
       "    </tr>\n",
       "  </thead>\n",
       "  <tbody>\n",
       "  </tbody>\n",
       "</table>\n",
       "</div>"
      ],
      "text/plain": [
       "Empty DataFrame\n",
       "Columns: [Paragraph, Sentence, Overall Sentence, Text, Tag, Polarity, Subjectivity]\n",
       "Index: []"
      ]
     },
     "execution_count": 363,
     "metadata": {},
     "output_type": "execute_result"
    }
   ],
   "source": [
    "extracts_1545554849[extracts_1545554849['Text'].str.contains('Wall Street')]"
   ]
  },
  {
   "cell_type": "code",
   "execution_count": 317,
   "id": "7e2eaf9d",
   "metadata": {},
   "outputs": [],
   "source": [
    "docs_1545554849 = list(nlp.pipe(extracts_1545554849['Text']))\n",
    "nlp_info_1545554849 = tidy_tokens(docs_1545554849)\n",
    "nlp_info_1545554849.to_csv('nlp_info_1545554849.csv', index=False)"
   ]
  },
  {
   "cell_type": "code",
   "execution_count": 379,
   "id": "400dabf0",
   "metadata": {},
   "outputs": [],
   "source": [
    "# News\n",
    "extracts_1550716133 = extract_paragraphs_new('RE_Sample_XMLs(1)/1550716133.xml')\n",
    "#extracts_1550716133['Tag'] = extracts_1550716133['Text'].apply(get_tags)\n",
    "extracts_1550716133['Polarity'] = extracts_1550716133['Text'].apply(get_polarity)\n",
    "extracts_1550716133['Subjectivity'] = extracts_1550716133['Text'].apply(get_subjectivity)"
   ]
  },
  {
   "cell_type": "code",
   "execution_count": 380,
   "id": "ca9c80a2",
   "metadata": {},
   "outputs": [],
   "source": [
    "yellen_1550716133 = extracts_1550716133[extracts_1550716133['Text'].str.contains('Yellen')]"
   ]
  },
  {
   "cell_type": "code",
   "execution_count": 367,
   "id": "0166b4a1",
   "metadata": {},
   "outputs": [
    {
     "data": {
      "text/html": [
       "<div>\n",
       "<style scoped>\n",
       "    .dataframe tbody tr th:only-of-type {\n",
       "        vertical-align: middle;\n",
       "    }\n",
       "\n",
       "    .dataframe tbody tr th {\n",
       "        vertical-align: top;\n",
       "    }\n",
       "\n",
       "    .dataframe thead th {\n",
       "        text-align: right;\n",
       "    }\n",
       "</style>\n",
       "<table border=\"1\" class=\"dataframe\">\n",
       "  <thead>\n",
       "    <tr style=\"text-align: right;\">\n",
       "      <th></th>\n",
       "      <th>Paragraph</th>\n",
       "      <th>Sentence</th>\n",
       "      <th>Overall Sentence</th>\n",
       "      <th>Text</th>\n",
       "      <th>Tag</th>\n",
       "      <th>Polarity</th>\n",
       "      <th>Subjectivity</th>\n",
       "    </tr>\n",
       "  </thead>\n",
       "  <tbody>\n",
       "  </tbody>\n",
       "</table>\n",
       "</div>"
      ],
      "text/plain": [
       "Empty DataFrame\n",
       "Columns: [Paragraph, Sentence, Overall Sentence, Text, Tag, Polarity, Subjectivity]\n",
       "Index: []"
      ]
     },
     "execution_count": 367,
     "metadata": {},
     "output_type": "execute_result"
    }
   ],
   "source": [
    "extracts_1550716133[extracts_1550716133['Text'].str.contains('Wall Street')]"
   ]
  },
  {
   "cell_type": "code",
   "execution_count": 318,
   "id": "7a7ca08e",
   "metadata": {},
   "outputs": [],
   "source": [
    "docs_1550716133 = list(nlp.pipe(extracts_1550716133['Text']))\n",
    "nlp_info_1550716133 = tidy_tokens(docs_1550716133)\n",
    "nlp_info_1550716133.to_csv('nlp_info_1550716133.csv', index=False)"
   ]
  },
  {
   "cell_type": "code",
   "execution_count": 381,
   "id": "84d75efe",
   "metadata": {},
   "outputs": [],
   "source": [
    "# Web\n",
    "extracts_2046284852 = extract_paragraphs_new('RE_Sample_XMLs(1)/2046284852.xml')\n",
    "#extracts_2046284852['Tag'] = extracts_2046284852['Text'].apply(get_tags)\n",
    "extracts_2046284852['Polarity'] = extracts_2046284852['Text'].apply(get_polarity)\n",
    "extracts_2046284852['Subjectivity'] = extracts_2046284852['Text'].apply(get_subjectivity)"
   ]
  },
  {
   "cell_type": "code",
   "execution_count": 382,
   "id": "7212fdbb",
   "metadata": {
    "scrolled": true
   },
   "outputs": [],
   "source": [
    "yellen_2046284852 = extracts_2046284852[extracts_2046284852['Text'].str.contains('Yellen')]"
   ]
  },
  {
   "cell_type": "code",
   "execution_count": 370,
   "id": "2b3a3cd8",
   "metadata": {},
   "outputs": [
    {
     "data": {
      "text/html": [
       "<div>\n",
       "<style scoped>\n",
       "    .dataframe tbody tr th:only-of-type {\n",
       "        vertical-align: middle;\n",
       "    }\n",
       "\n",
       "    .dataframe tbody tr th {\n",
       "        vertical-align: top;\n",
       "    }\n",
       "\n",
       "    .dataframe thead th {\n",
       "        text-align: right;\n",
       "    }\n",
       "</style>\n",
       "<table border=\"1\" class=\"dataframe\">\n",
       "  <thead>\n",
       "    <tr style=\"text-align: right;\">\n",
       "      <th></th>\n",
       "      <th>Paragraph</th>\n",
       "      <th>Sentence</th>\n",
       "      <th>Overall Sentence</th>\n",
       "      <th>Text</th>\n",
       "      <th>Tag</th>\n",
       "      <th>Polarity</th>\n",
       "      <th>Subjectivity</th>\n",
       "    </tr>\n",
       "  </thead>\n",
       "  <tbody>\n",
       "    <tr>\n",
       "      <th>0</th>\n",
       "      <td>1</td>\n",
       "      <td>1</td>\n",
       "      <td>1</td>\n",
       "      <td>Barbara Byrne, one of the most accomplished and powerful women in the banking industry, has seen a lot in her more than 30 years on Wall Street.</td>\n",
       "      <td>[(Barbara, PROPN, compound), (Byrne, PROPN, nsubj), (,, PUNCT, punct), (one, NUM, appos), (of, ADP, prep), (the, DET, det), (most, ADV, advmod), (accomplished, ADJ, amod), (and, CCONJ, cc), (powerful, ADJ, conj), (women, NOUN, pobj), (in, ADP, prep), (the, DET, det), (banking, NOUN, compound), (industry, NOUN, pobj), (,, PUNCT, punct), (has, AUX, aux), (seen, VERB, ROOT), (a, DET, det), (lot, NOUN, dobj), (in, ADP, prep), (her, PRON, pobj), (more, ADJ, amod), (than, ADP, quantmod), (30, NUM, nummod), (years, NOUN, pobj), (on, ADP, prep), (Wall, PROPN, compound), (Street, PROPN, pobj), (., PUNCT, punct)]</td>\n",
       "      <td>0.375000</td>\n",
       "      <td>0.625000</td>\n",
       "    </tr>\n",
       "    <tr>\n",
       "      <th>12</th>\n",
       "      <td>8</td>\n",
       "      <td>1</td>\n",
       "      <td>13</td>\n",
       "      <td>Though promotion of women on Wall Street has grown by leaps and bounds over the past several decades, Byrne recalls that it wasn’t always that way.</td>\n",
       "      <td>[(Though, SCONJ, mark), (promotion, NOUN, nsubj), (of, ADP, prep), (women, NOUN, pobj), (on, ADP, prep), (Wall, PROPN, compound), (Street, PROPN, pobj), (has, AUX, aux), (grown, VERB, advcl), (by, ADP, prep), (leaps, NOUN, pobj), (and, CCONJ, cc), (bounds, VERB, conj), (over, ADP, prep), (the, DET, det), (past, ADJ, amod), (several, ADJ, amod), (decades, NOUN, pobj), (,, PUNCT, punct), (Byrne, PROPN, nsubj), (recalls, VERB, ROOT), (that, SCONJ, mark), (it, PRON, nsubj), (was, AUX, ccomp), (n’t, PART, neg), (always, ADV, advmod), (that, DET, det), (way, NOUN, npadvmod), (., PUNCT, punct)]</td>\n",
       "      <td>-0.125000</td>\n",
       "      <td>0.125000</td>\n",
       "    </tr>\n",
       "    <tr>\n",
       "      <th>18</th>\n",
       "      <td>11</td>\n",
       "      <td>2</td>\n",
       "      <td>19</td>\n",
       "      <td>In a recent interview, she discussed a range of issues including the changing gender landscape in the world of banking, the challenges and lessons of juggling motherhood and work, and advice she has for young women looking to make it on Wall Street.</td>\n",
       "      <td>[(In, ADP, prep), (a, DET, det), (recent, ADJ, amod), (interview, NOUN, pobj), (,, PUNCT, punct), (she, PRON, nsubj), (discussed, VERB, ROOT), (a, DET, det), (range, NOUN, dobj), (of, ADP, prep), (issues, NOUN, pobj), (including, VERB, prep), (the, DET, det), (changing, VERB, amod), (gender, NOUN, compound), (landscape, NOUN, pobj), (in, ADP, prep), (the, DET, det), (world, NOUN, pobj), (of, ADP, prep), (banking, NOUN, pobj), (,, PUNCT, punct), (the, DET, det), (challenges, NOUN, conj), (and, CCONJ, cc), (lessons, NOUN, conj), (of, ADP, prep), (juggling, VERB, pcomp), (motherhood, NOUN, dobj), (and, CCONJ, cc), (work, NOUN, conj), (,, PUNCT, punct), (and, CCONJ, cc), (advice, NOUN, conj), (she, PRON, nsubj), (has, VERB, relcl), (for, ADP, prep), (young, ADJ, amod), (women, NOUN, pobj), (looking, VERB, acl), (to, PART, aux), (make, VERB, xcomp), (it, PRON, dobj), (on, ADP, prep), (Wall, PROPN, compound), (Street, PROPN, pobj), (., PUNCT, punct)]</td>\n",
       "      <td>0.050000</td>\n",
       "      <td>0.325000</td>\n",
       "    </tr>\n",
       "    <tr>\n",
       "      <th>19</th>\n",
       "      <td>12</td>\n",
       "      <td>1</td>\n",
       "      <td>20</td>\n",
       "      <td>Have Wall Street and the world of finance become more inclusive work environments for women over the past few decades?</td>\n",
       "      <td>[(Have, AUX, aux), (Wall, PROPN, compound), (Street, PROPN, nsubj), (and, CCONJ, cc), (the, DET, det), (world, NOUN, conj), (of, ADP, prep), (finance, NOUN, pobj), (become, VERB, ROOT), (more, ADV, advmod), (inclusive, ADJ, amod), (work, NOUN, compound), (environments, NOUN, attr), (for, ADP, prep), (women, NOUN, pobj), (over, ADP, prep), (the, DET, det), (past, ADJ, amod), (few, ADJ, amod), (decades, NOUN, pobj), (?, PUNCT, punct)]</td>\n",
       "      <td>0.016667</td>\n",
       "      <td>0.283333</td>\n",
       "    </tr>\n",
       "    <tr>\n",
       "      <th>25</th>\n",
       "      <td>15</td>\n",
       "      <td>1</td>\n",
       "      <td>26</td>\n",
       "      <td>Do you think it’s easier now to be a mother of four and work on Wall Street than it was 30 years ago?</td>\n",
       "      <td>[(Do, AUX, aux), (you, PRON, nsubj), (think, VERB, ROOT), (it, PRON, nsubj), (’s, VERB, ccomp), (easier, ADJ, acomp), (now, ADV, advmod), (to, PART, aux), (be, AUX, xcomp), (a, DET, det), (mother, NOUN, attr), (of, ADP, prep), (four, NUM, pobj), (and, CCONJ, cc), (work, VERB, conj), (on, ADP, prep), (Wall, PROPN, compound), (Street, PROPN, pobj), (than, SCONJ, mark), (it, PRON, nsubj), (was, AUX, advcl), (30, NUM, nummod), (years, NOUN, npadvmod), (ago, ADV, advmod), (?, PUNCT, punct)]</td>\n",
       "      <td>0.000000</td>\n",
       "      <td>0.000000</td>\n",
       "    </tr>\n",
       "  </tbody>\n",
       "</table>\n",
       "</div>"
      ],
      "text/plain": [
       "    Paragraph  Sentence  Overall Sentence  \\\n",
       "0   1          1         1                  \n",
       "12  8          1         13                 \n",
       "18  11         2         19                 \n",
       "19  12         1         20                 \n",
       "25  15         1         26                 \n",
       "\n",
       "                                                                                                                                                                                                                                                         Text  \\\n",
       "0   Barbara Byrne, one of the most accomplished and powerful women in the banking industry, has seen a lot in her more than 30 years on Wall Street.                                                                                                            \n",
       "12  Though promotion of women on Wall Street has grown by leaps and bounds over the past several decades, Byrne recalls that it wasn’t always that way.                                                                                                         \n",
       "18  In a recent interview, she discussed a range of issues including the changing gender landscape in the world of banking, the challenges and lessons of juggling motherhood and work, and advice she has for young women looking to make it on Wall Street.   \n",
       "19  Have Wall Street and the world of finance become more inclusive work environments for women over the past few decades?                                                                                                                                      \n",
       "25  Do you think it’s easier now to be a mother of four and work on Wall Street than it was 30 years ago?                                                                                                                                                       \n",
       "\n",
       "                                                                                                                                                                                                                                                                                                                                                                                                                                                                                                                                                                                                                                                                                                                                                                                                                                                                                                                                                                                               Tag  \\\n",
       "0   [(Barbara, PROPN, compound), (Byrne, PROPN, nsubj), (,, PUNCT, punct), (one, NUM, appos), (of, ADP, prep), (the, DET, det), (most, ADV, advmod), (accomplished, ADJ, amod), (and, CCONJ, cc), (powerful, ADJ, conj), (women, NOUN, pobj), (in, ADP, prep), (the, DET, det), (banking, NOUN, compound), (industry, NOUN, pobj), (,, PUNCT, punct), (has, AUX, aux), (seen, VERB, ROOT), (a, DET, det), (lot, NOUN, dobj), (in, ADP, prep), (her, PRON, pobj), (more, ADJ, amod), (than, ADP, quantmod), (30, NUM, nummod), (years, NOUN, pobj), (on, ADP, prep), (Wall, PROPN, compound), (Street, PROPN, pobj), (., PUNCT, punct)]                                                                                                                                                                                                                                                                                                                                                               \n",
       "12  [(Though, SCONJ, mark), (promotion, NOUN, nsubj), (of, ADP, prep), (women, NOUN, pobj), (on, ADP, prep), (Wall, PROPN, compound), (Street, PROPN, pobj), (has, AUX, aux), (grown, VERB, advcl), (by, ADP, prep), (leaps, NOUN, pobj), (and, CCONJ, cc), (bounds, VERB, conj), (over, ADP, prep), (the, DET, det), (past, ADJ, amod), (several, ADJ, amod), (decades, NOUN, pobj), (,, PUNCT, punct), (Byrne, PROPN, nsubj), (recalls, VERB, ROOT), (that, SCONJ, mark), (it, PRON, nsubj), (was, AUX, ccomp), (n’t, PART, neg), (always, ADV, advmod), (that, DET, det), (way, NOUN, npadvmod), (., PUNCT, punct)]                                                                                                                                                                                                                                                                                                                                                                               \n",
       "18  [(In, ADP, prep), (a, DET, det), (recent, ADJ, amod), (interview, NOUN, pobj), (,, PUNCT, punct), (she, PRON, nsubj), (discussed, VERB, ROOT), (a, DET, det), (range, NOUN, dobj), (of, ADP, prep), (issues, NOUN, pobj), (including, VERB, prep), (the, DET, det), (changing, VERB, amod), (gender, NOUN, compound), (landscape, NOUN, pobj), (in, ADP, prep), (the, DET, det), (world, NOUN, pobj), (of, ADP, prep), (banking, NOUN, pobj), (,, PUNCT, punct), (the, DET, det), (challenges, NOUN, conj), (and, CCONJ, cc), (lessons, NOUN, conj), (of, ADP, prep), (juggling, VERB, pcomp), (motherhood, NOUN, dobj), (and, CCONJ, cc), (work, NOUN, conj), (,, PUNCT, punct), (and, CCONJ, cc), (advice, NOUN, conj), (she, PRON, nsubj), (has, VERB, relcl), (for, ADP, prep), (young, ADJ, amod), (women, NOUN, pobj), (looking, VERB, acl), (to, PART, aux), (make, VERB, xcomp), (it, PRON, dobj), (on, ADP, prep), (Wall, PROPN, compound), (Street, PROPN, pobj), (., PUNCT, punct)]   \n",
       "19  [(Have, AUX, aux), (Wall, PROPN, compound), (Street, PROPN, nsubj), (and, CCONJ, cc), (the, DET, det), (world, NOUN, conj), (of, ADP, prep), (finance, NOUN, pobj), (become, VERB, ROOT), (more, ADV, advmod), (inclusive, ADJ, amod), (work, NOUN, compound), (environments, NOUN, attr), (for, ADP, prep), (women, NOUN, pobj), (over, ADP, prep), (the, DET, det), (past, ADJ, amod), (few, ADJ, amod), (decades, NOUN, pobj), (?, PUNCT, punct)]                                                                                                                                                                                                                                                                                                                                                                                                                                                                                                                                             \n",
       "25  [(Do, AUX, aux), (you, PRON, nsubj), (think, VERB, ROOT), (it, PRON, nsubj), (’s, VERB, ccomp), (easier, ADJ, acomp), (now, ADV, advmod), (to, PART, aux), (be, AUX, xcomp), (a, DET, det), (mother, NOUN, attr), (of, ADP, prep), (four, NUM, pobj), (and, CCONJ, cc), (work, VERB, conj), (on, ADP, prep), (Wall, PROPN, compound), (Street, PROPN, pobj), (than, SCONJ, mark), (it, PRON, nsubj), (was, AUX, advcl), (30, NUM, nummod), (years, NOUN, npadvmod), (ago, ADV, advmod), (?, PUNCT, punct)]                                                                                                                                                                                                                                                                                                                                                                                                                                                                                       \n",
       "\n",
       "    Polarity  Subjectivity  \n",
       "0   0.375000  0.625000      \n",
       "12 -0.125000  0.125000      \n",
       "18  0.050000  0.325000      \n",
       "19  0.016667  0.283333      \n",
       "25  0.000000  0.000000      "
      ]
     },
     "execution_count": 370,
     "metadata": {},
     "output_type": "execute_result"
    }
   ],
   "source": [
    "# keyword \"Wall Street\"\n",
    "extracts_2046284852[extracts_2046284852['Text'].str.contains('Wall Street')]"
   ]
  },
  {
   "cell_type": "code",
   "execution_count": 319,
   "id": "70b59cad",
   "metadata": {},
   "outputs": [],
   "source": [
    "docs_2046284852 = list(nlp.pipe(extracts_2046284852['Text']))\n",
    "nlp_info_2046284852 = tidy_tokens(docs_2046284852)\n",
    "nlp_info_2046284852.to_csv('nlp_info_2046284852.csv', index=False)"
   ]
  },
  {
   "cell_type": "code",
   "execution_count": 385,
   "id": "833318c1",
   "metadata": {},
   "outputs": [],
   "source": [
    "# Concatenate all the result tables\n",
    "yellen = pd.concat([yellen_1545387815, yellen_1545553533, yellen_1545554849, yellen_1550716133, yellen_2046284852], \n",
    "                   keys = [1545387815, 1545553533, 1545554849, 1550716133, 2046284852]).reset_index()"
   ]
  },
  {
   "cell_type": "code",
   "execution_count": 387,
   "id": "96d5043c",
   "metadata": {},
   "outputs": [],
   "source": [
    "yellen = yellen.rename(columns={'level_0': 'GOID'})"
   ]
  },
  {
   "cell_type": "code",
   "execution_count": 388,
   "id": "7aaee623",
   "metadata": {},
   "outputs": [],
   "source": [
    "yellen = yellen.drop(columns=['level_1'])"
   ]
  },
  {
   "cell_type": "code",
   "execution_count": 390,
   "id": "26e877ab",
   "metadata": {},
   "outputs": [],
   "source": [
    "yellen.to_csv('yellen.csv', index=False)"
   ]
  },
  {
   "cell_type": "code",
   "execution_count": null,
   "id": "966618a5",
   "metadata": {},
   "outputs": [],
   "source": []
  }
 ],
 "metadata": {
  "kernelspec": {
   "display_name": "Python 3 (ipykernel)",
   "language": "python",
   "name": "python3"
  },
  "language_info": {
   "codemirror_mode": {
    "name": "ipython",
    "version": 3
   },
   "file_extension": ".py",
   "mimetype": "text/x-python",
   "name": "python",
   "nbconvert_exporter": "python",
   "pygments_lexer": "ipython3",
   "version": "3.8.12"
  }
 },
 "nbformat": 4,
 "nbformat_minor": 5
}
