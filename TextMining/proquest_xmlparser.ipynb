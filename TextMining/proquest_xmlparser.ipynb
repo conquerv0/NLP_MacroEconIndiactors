{
 "cells": [
  {
   "cell_type": "code",
   "execution_count": 2,
   "id": "3c65e250",
   "metadata": {},
   "outputs": [],
   "source": [
    "# Packages\n",
    "import numpy as np\n",
    "import pandas as pd\n",
    "import os\n",
    "import xml.etree.ElementTree as ET"
   ]
  },
  {
   "cell_type": "markdown",
   "id": "bae8a65e",
   "metadata": {},
   "source": [
    "## 1. Data Preprocessing"
   ]
  },
  {
   "cell_type": "markdown",
   "id": "64d55ae1",
   "metadata": {},
   "source": [
    "### 1.1 FileSetup"
   ]
  },
  {
   "cell_type": "code",
   "execution_count": 3,
   "id": "4e9e0bec",
   "metadata": {},
   "outputs": [
    {
     "name": "stdout",
     "output_type": "stream",
     "text": [
      "C:\\Users\\ConquerV\\Documents\\2022Summer\\EconResearch_TAML\\TextMining\n"
     ]
    }
   ],
   "source": [
    "os.chdir('C:/Users/ConquerV/Documents/2022Summer/EconResearch_TAML/TextMining')\n",
    "path = os.getcwd()\n",
    "print(path)\n",
    "xmlfile = 'journal_sample.xml'"
   ]
  },
  {
   "cell_type": "markdown",
   "id": "836b0a9a",
   "metadata": {},
   "source": [
    "### Web-based xml (Kept for future use)"
   ]
  },
  {
   "cell_type": "code",
   "execution_count": 86,
   "id": "3f7087f9",
   "metadata": {},
   "outputs": [],
   "source": [
    "# def loadRSS():\n",
    "    # url of rss feed\n",
    "#     url = '.xml'\n",
    "  \n",
    "#     # creating HTTP response object from given url\n",
    "#     resp = requests.get(url)\n",
    "  \n",
    "#     # saving the xml file\n",
    "#     with open('.xml', 'wb') as f:\n",
    "#         f.write(resp.content)"
   ]
  },
  {
   "cell_type": "markdown",
   "id": "0f74086e",
   "metadata": {},
   "source": [
    "### 1.2 XML Parsing"
   ]
  },
  {
   "cell_type": "code",
   "execution_count": 84,
   "id": "67ad19c5",
   "metadata": {},
   "outputs": [],
   "source": [
    "def parseXML(xmlfile):\n",
    "    \n",
    "    # create element tree object\n",
    "    tree = ET.parse(xmlfile)\n",
    "    root = tree.getroot()\n",
    "    \n",
    "    # find target element tree\n",
    "    obj_root = tree.find('Obj')\n",
    "    \n",
    "    # create data arrays\n",
    "    author = []\n",
    "    title = []\n",
    "    numeric_date = []\n",
    "    alpha_date = []\n",
    "    language = []\n",
    "    source = []\n",
    "    keywords = []\n",
    "    \n",
    "    # iteratre over the trees to extract metadata\n",
    "    for item in obj_root:\n",
    "        if item.tag == 'TitleAtt':\n",
    "            title.append(item[0].text)\n",
    "\n",
    "        if item.tag == 'Language':\n",
    "            language.append(item[0].text.strip())\n",
    "\n",
    "        if item.tag == 'Author':\n",
    "            title.append(item[0].text)\n",
    "\n",
    "        if item.tag == 'NumericDate':\n",
    "            numeric_date.append(item.text)\n",
    "\n",
    "        if item.tag == 'AlphaDate':\n",
    "            alpha_date.append(item.text)\n",
    "\n",
    "        if item.tag == 'Contributors':\n",
    "            for contributor in item:\n",
    "                author.append(contributor[0][0].text)\n",
    "\n",
    "        if item.tag == 'Terms':\n",
    "            for term in item:\n",
    "                keywords.append(term[0].text)\n",
    "        \n",
    "\n",
    "    return author, title, numeric_date, alpha_date, language, source, keywords"
   ]
  },
  {
   "cell_type": "code",
   "execution_count": 85,
   "id": "b845daef",
   "metadata": {},
   "outputs": [],
   "source": [
    "author, title, numeric_date, alpha_date, language, source, keywords = parseXML(xmlfile)"
   ]
  },
  {
   "cell_type": "markdown",
   "id": "bdf423af",
   "metadata": {},
   "source": [
    "## 2. Sentiment Analysis"
   ]
  },
  {
   "cell_type": "markdown",
   "id": "701384e5",
   "metadata": {},
   "source": [
    "### 2.1 spaCY Named Entity Recognition (NER)"
   ]
  },
  {
   "cell_type": "markdown",
   "id": "b90d9456",
   "metadata": {},
   "source": [
    "### 2.1.1 POS Tags"
   ]
  },
  {
   "cell_type": "code",
   "execution_count": null,
   "id": "fa1f75eb",
   "metadata": {},
   "outputs": [],
   "source": []
  },
  {
   "cell_type": "markdown",
   "id": "c2ee22a4",
   "metadata": {},
   "source": [
    "### 2.1.2 Model"
   ]
  },
  {
   "cell_type": "code",
   "execution_count": null,
   "id": "62845c74",
   "metadata": {},
   "outputs": [],
   "source": []
  }
 ],
 "metadata": {
  "kernelspec": {
   "display_name": "Python 3 (ipykernel)",
   "language": "python",
   "name": "python3"
  },
  "language_info": {
   "codemirror_mode": {
    "name": "ipython",
    "version": 3
   },
   "file_extension": ".py",
   "mimetype": "text/x-python",
   "name": "python",
   "nbconvert_exporter": "python",
   "pygments_lexer": "ipython3",
   "version": "3.9.7"
  }
 },
 "nbformat": 4,
 "nbformat_minor": 5
}
